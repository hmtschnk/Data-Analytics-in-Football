{
 "cells": [
  {
   "cell_type": "code",
   "execution_count": 1,
   "metadata": {},
   "outputs": [
    {
     "name": "stdout",
     "output_type": "stream",
     "text": [
      "importing Jupyter notebook from dataAcq.ipynb\n"
     ]
    }
   ],
   "source": [
    "# Import libraries\n",
    "import pandas as pd\n",
    "import matplotlib.pyplot as plt\n",
    "import numpy as np\n",
    "import seaborn\n",
    "from scipy.stats import poisson,skellam\n",
    "import import_ipynb\n",
    "\n",
    "# Import datasets\n",
    "import dataAcq as da"
   ]
  },
  {
   "cell_type": "code",
   "execution_count": 2,
   "metadata": {},
   "outputs": [
    {
     "data": {
      "text/html": [
       "<div>\n",
       "<style scoped>\n",
       "    .dataframe tbody tr th:only-of-type {\n",
       "        vertical-align: middle;\n",
       "    }\n",
       "\n",
       "    .dataframe tbody tr th {\n",
       "        vertical-align: top;\n",
       "    }\n",
       "\n",
       "    .dataframe thead th {\n",
       "        text-align: right;\n",
       "    }\n",
       "</style>\n",
       "<table border=\"1\" class=\"dataframe\">\n",
       "  <thead>\n",
       "    <tr style=\"text-align: right;\">\n",
       "      <th></th>\n",
       "      <th>HomeTeam</th>\n",
       "      <th>AwayTeam</th>\n",
       "      <th>FTHG</th>\n",
       "      <th>FTAG</th>\n",
       "    </tr>\n",
       "  </thead>\n",
       "  <tbody>\n",
       "    <tr>\n",
       "      <td>0</td>\n",
       "      <td>Liverpool</td>\n",
       "      <td>Norwich</td>\n",
       "      <td>4</td>\n",
       "      <td>1</td>\n",
       "    </tr>\n",
       "    <tr>\n",
       "      <td>1</td>\n",
       "      <td>West Ham</td>\n",
       "      <td>Man City</td>\n",
       "      <td>0</td>\n",
       "      <td>5</td>\n",
       "    </tr>\n",
       "    <tr>\n",
       "      <td>2</td>\n",
       "      <td>Bournemouth</td>\n",
       "      <td>Sheffield United</td>\n",
       "      <td>1</td>\n",
       "      <td>1</td>\n",
       "    </tr>\n",
       "    <tr>\n",
       "      <td>3</td>\n",
       "      <td>Burnley</td>\n",
       "      <td>Southampton</td>\n",
       "      <td>3</td>\n",
       "      <td>0</td>\n",
       "    </tr>\n",
       "    <tr>\n",
       "      <td>4</td>\n",
       "      <td>Crystal Palace</td>\n",
       "      <td>Everton</td>\n",
       "      <td>0</td>\n",
       "      <td>0</td>\n",
       "    </tr>\n",
       "  </tbody>\n",
       "</table>\n",
       "</div>"
      ],
      "text/plain": [
       "         HomeTeam          AwayTeam  FTHG  FTAG\n",
       "0       Liverpool           Norwich     4     1\n",
       "1        West Ham          Man City     0     5\n",
       "2     Bournemouth  Sheffield United     1     1\n",
       "3         Burnley       Southampton     3     0\n",
       "4  Crystal Palace           Everton     0     0"
      ]
     },
     "execution_count": 2,
     "metadata": {},
     "output_type": "execute_result"
    }
   ],
   "source": [
    "da.eng20 = da.eng20[['HomeTeam','AwayTeam','FTHG','FTAG']]\n",
    "da.eng20.head()"
   ]
  },
  {
   "cell_type": "code",
   "execution_count": 3,
   "metadata": {},
   "outputs": [
    {
     "data": {
      "text/plain": [
       "FTHG    1.508108\n",
       "FTAG    1.197297\n",
       "dtype: float64"
      ]
     },
     "execution_count": 3,
     "metadata": {},
     "output_type": "execute_result"
    }
   ],
   "source": [
    "# Remove last 10 rows for modelling\n",
    "dEng = da.eng20[:-10]\n",
    "dEng.mean()"
   ]
  },
  {
   "cell_type": "code",
   "execution_count": 7,
   "metadata": {},
   "outputs": [
    {
     "data": {
      "image/png": "[encoded data removed]",
      "text/plain": [
       "<Figure size 432x288 with 1 Axes>"
      ]
     },
     "metadata": {
      "needs_background": "light"
     },
     "output_type": "display_data"
    }
   ],
   "source": [
    "# construct Poisson  for each mean goals value\n",
    "poisson_pred = np.column_stack([[poisson.pmf(i, da.eng20.mean()[j]) for i in range(8)] for j in range(2)])\n",
    "\n",
    "# plot histogram of actual goals\n",
    "plt.hist(da.eng20[['FTHG', 'FTAG']].values, range(9), \n",
    "         alpha=0.7, label=['Home', 'Away'],density=True, color=[\"RED\", \"BLUE\"])\n",
    "\n",
    "# add lines for the Poisson distributions\n",
    "pois1, = plt.plot([i-0.5 for i in range(1,9)], poisson_pred[:,0],\n",
    "                  linestyle='-', marker='o',label=\"Home\", color = 'RED')\n",
    "pois2, = plt.plot([i-0.5 for i in range(1,9)], poisson_pred[:,1],\n",
    "                  linestyle='-', marker='o',label=\"Away\", color = 'BLUE')\n",
    "\n",
    "leg=plt.legend(loc='upper right', fontsize=13, ncol=2)\n",
    "leg.set_title(\"Poisson           Actual        \", prop = {'size':'14', 'weight':'bold'})\n",
    "\n",
    "plt.xticks([i-0.5 for i in range(1,9)],[i for i in range(9)])\n",
    "plt.xlabel(\"Goals per Match\",size=13)\n",
    "plt.ylabel(\"Proportion of Matches\",size=13)\n",
    "plt.title(\"Number of Goals per Match (EPL 2019/20 Season)\",size=14,fontweight='bold')\n",
    "plt.ylim([-0.004, 0.4])\n",
    "plt.tight_layout()\n",
    "plt.show()"
   ]
  },
  {
   "cell_type": "code",
   "execution_count": 8,
   "metadata": {},
   "outputs": [
    {
     "data": {
      "text/plain": [
       "0.2534527280263352"
      ]
     },
     "execution_count": 8,
     "metadata": {},
     "output_type": "execute_result"
    }
   ],
   "source": [
    "# probability of draw between home and away team\n",
    "skellam.pmf(0.0, da.eng20.mean()[0], da.eng20.mean()[1])"
   ]
  },
  {
   "cell_type": "code",
   "execution_count": 9,
   "metadata": {},
   "outputs": [
    {
     "data": {
      "text/plain": [
       "0.22324018751830582"
      ]
     },
     "execution_count": 9,
     "metadata": {},
     "output_type": "execute_result"
    }
   ],
   "source": [
    "# probability of home team winning by one goal\n",
    "skellam.pmf(1, da.eng20.mean()[0], da.eng20.mean()[1])"
   ]
  },
  {
   "cell_type": "code",
   "execution_count": 10,
   "metadata": {},
   "outputs": [
    {
     "data": {
      "image/png": "[encoded data removed]",
      "text/plain": [
       "<Figure size 432x288 with 1 Axes>"
      ]
     },
     "metadata": {
      "needs_background": "light"
     },
     "output_type": "display_data"
    }
   ],
   "source": [
    "# Skellam distribution of home vs away goal\n",
    "skellam_pred = [skellam.pmf(i,  da.eng20.mean()[0],  da.eng20.mean()[1]) for i in range(-6,8)]\n",
    "\n",
    "plt.hist(da.eng20[['FTHG']].values - da.eng20[['FTAG']].values, range(-6,8), \n",
    "         alpha=0.7, label='Actual',density=True)\n",
    "plt.plot([i+0.5 for i in range(-6,8)], skellam_pred,\n",
    "                  linestyle='-', marker='o',label=\"Skellam\", color = '#CD5C5C')\n",
    "plt.legend(loc='upper right', fontsize=13)\n",
    "plt.xticks([i+0.5 for i in range(-6,8)],[i for i in range(-6,8)])\n",
    "plt.xlabel(\"Home Goals - Away Goals\",size=13)\n",
    "plt.ylabel(\"Proportion of Matches\",size=13)\n",
    "plt.title(\"Difference in Goals Scored (Home Team vs Away Team)\",size=14,fontweight='bold')\n",
    "plt.ylim([-0.004, 0.26])\n",
    "plt.tight_layout()\n",
    "plt.show()"
   ]
  },
  {
   "cell_type": "code",
   "execution_count": 11,
   "metadata": {},
   "outputs": [
    {
     "data": {
      "image/png": "[encoded data removed]",
      "text/plain": [
       "<Figure size 432x288 with 2 Axes>"
      ]
     },
     "metadata": {
      "needs_background": "light"
     },
     "output_type": "display_data"
    }
   ],
   "source": [
    "fig,(ax1,ax2) = plt.subplots(2, 1)\n",
    "\n",
    "che_home = da.eng20[da.eng20['HomeTeam']=='Chelsea'][['FTHG']].apply(pd.value_counts,normalize=True)\n",
    "che_home_pois = [poisson.pmf(i,np.sum(np.multiply(che_home.values.T,che_home.index.T),axis=1)[0]) for i in range(8)]\n",
    "liv_home = da.eng20[da.eng20['HomeTeam']=='Liverpool'][['FTHG']].apply(pd.value_counts,normalize=True)\n",
    "liv_home_pois = [poisson.pmf(i,np.sum(np.multiply(liv_home.values.T,liv_home.index.T),axis=1)[0]) for i in range(8)]\n",
    "\n",
    "che_away = da.eng20[da.eng20['AwayTeam']=='Chelsea'][['FTAG']].apply(pd.value_counts,normalize=True)\n",
    "che_away_pois = [poisson.pmf(i,np.sum(np.multiply(che_away.values.T,che_away.index.T),axis=1)[0]) for i in range(8)]\n",
    "liv_away = da.eng20[da.eng20['AwayTeam']=='Liverpool'][['FTAG']].apply(pd.value_counts,normalize=True)\n",
    "liv_away_pois = [poisson.pmf(i,np.sum(np.multiply(liv_away.values.T,liv_away.index.T),axis=1)[0]) for i in range(8)]\n",
    "\n",
    "ax1.bar(che_home.index,che_home['FTHG'],width=0.4,color=\"#034694\",label=\"Chelsea\")\n",
    "ax1.bar(liv_home.index,liv_home['FTHG'],width=0.4,color=\"#EB172B\",label=\"Liverpool\")\n",
    "pois1, = ax1.plot([i for i in range(8)], che_home_pois,\n",
    "                  linestyle='-', marker='o',label=\"Chelsea\", color = \"#0a7bff\")\n",
    "pois1, = ax1.plot([i for i in range(8)], liv_home_pois,\n",
    "                  linestyle='-', marker='o',label=\"Liverpool\", color = \"#ff7c89\")\n",
    "# leg=ax1.legend(loc='upper right', fontsize=12, ncol=2)\n",
    "# leg.set_title(\"Poisson                 Actual                \", prop = {'size':'14', 'weight':'bold'})\n",
    "ax1.set_xlim([-0.5,7.5])\n",
    "ax1.set_ylim([-0.01,0.65])\n",
    "ax1.set_xticklabels([])\n",
    "# mimicing the facet plots in ggplot2 with a bit of a hack\n",
    "# ax1.text(7.65, 0.585, '                Home                ', rotation=-90,\n",
    "#         bbox={'facecolor':'#ffbcf6', 'alpha':0.5, 'pad':5})\n",
    "# ax2.text(7.65, 0.585, '                Away                ', rotation=-90,\n",
    "#         bbox={'facecolor':'#ffbcf6', 'alpha':0.5, 'pad':5})\n",
    "\n",
    "ax2.bar(che_away.index,che_away['FTAG'],width=0.4,color=\"#034694\",label=\"Chelsea\")\n",
    "ax2.bar(liv_away.index,liv_away['FTAG'],width=0.4,color=\"#EB172B\",label=\"Liverpool\")\n",
    "pois1, = ax2.plot([i for i in range(8)], che_away_pois,\n",
    "                  linestyle='-', marker='o',label=\"Chelsea\", color = \"#0a7bff\")\n",
    "pois1, = ax2.plot([i for i in range(8)], liv_away_pois,\n",
    "                  linestyle='-', marker='o',label=\"Liverpool\", color = \"#ff7c89\")\n",
    "ax2.set_xlim([-0.5,7.5])\n",
    "ax2.set_ylim([-0.01,0.65])\n",
    "ax1.set_title(\"Number of Goals per Match (EPL 2019/20 Season)\",size=14,fontweight='bold')\n",
    "ax2.set_xlabel(\"Goals per Match\",size=13)\n",
    "# ax2.text(-1.15, 0.9, 'Proportion of Matches', rotation=90, size=13)\n",
    "plt.tight_layout()\n",
    "plt.show()"
   ]
  },
  {
   "cell_type": "code",
   "execution_count": 12,
   "metadata": {},
   "outputs": [
    {
     "data": {
      "text/html": [
       "<table class=\"simpletable\">\n",
       "<caption>Generalized Linear Model Regression Results</caption>\n",
       "<tr>\n",
       "  <th>Dep. Variable:</th>         <td>goals</td>      <th>  No. Observations:  </th>  <td>   760</td> \n",
       "</tr>\n",
       "<tr>\n",
       "  <th>Model:</th>                  <td>GLM</td>       <th>  Df Residuals:      </th>  <td>   720</td> \n",
       "</tr>\n",
       "<tr>\n",
       "  <th>Model Family:</th>         <td>Poisson</td>     <th>  Df Model:          </th>  <td>    39</td> \n",
       "</tr>\n",
       "<tr>\n",
       "  <th>Link Function:</th>          <td>log</td>       <th>  Scale:             </th> <td>  1.0000</td>\n",
       "</tr>\n",
       "<tr>\n",
       "  <th>Method:</th>                <td>IRLS</td>       <th>  Log-Likelihood:    </th> <td> -1057.7</td>\n",
       "</tr>\n",
       "<tr>\n",
       "  <th>Date:</th>            <td>Wed, 30 Dec 2020</td> <th>  Deviance:          </th> <td>  765.20</td>\n",
       "</tr>\n",
       "<tr>\n",
       "  <th>Time:</th>                <td>15:14:46</td>     <th>  Pearson chi2:      </th>  <td>  655.</td> \n",
       "</tr>\n",
       "<tr>\n",
       "  <th>No. Iterations:</th>          <td>5</td>        <th>                     </th>     <td> </td>   \n",
       "</tr>\n",
       "<tr>\n",
       "  <th>Covariance Type:</th>     <td>nonrobust</td>    <th>                     </th>     <td> </td>   \n",
       "</tr>\n",
       "</table>\n",
       "<table class=\"simpletable\">\n",
       "<tr>\n",
       "                <td></td>                  <th>coef</th>     <th>std err</th>      <th>z</th>      <th>P>|z|</th>  <th>[0.025</th>    <th>0.975]</th>  \n",
       "</tr>\n",
       "<tr>\n",
       "  <th>Intercept</th>                    <td>    0.1957</td> <td>    0.202</td> <td>    0.967</td> <td> 0.334</td> <td>   -0.201</td> <td>    0.593</td>\n",
       "</tr>\n",
       "<tr>\n",
       "  <th>team[T.Aston Villa]</th>          <td>   -0.2932</td> <td>    0.206</td> <td>   -1.424</td> <td> 0.154</td> <td>   -0.697</td> <td>    0.110</td>\n",
       "</tr>\n",
       "<tr>\n",
       "  <th>team[T.Bournemouth]</th>          <td>   -0.3200</td> <td>    0.207</td> <td>   -1.544</td> <td> 0.123</td> <td>   -0.726</td> <td>    0.086</td>\n",
       "</tr>\n",
       "<tr>\n",
       "  <th>team[T.Brighton]</th>             <td>   -0.3566</td> <td>    0.209</td> <td>   -1.708</td> <td> 0.088</td> <td>   -0.766</td> <td>    0.053</td>\n",
       "</tr>\n",
       "<tr>\n",
       "  <th>team[T.Burnley]</th>              <td>   -0.2628</td> <td>    0.203</td> <td>   -1.294</td> <td> 0.196</td> <td>   -0.661</td> <td>    0.135</td>\n",
       "</tr>\n",
       "<tr>\n",
       "  <th>team[T.Chelsea]</th>              <td>    0.2157</td> <td>    0.180</td> <td>    1.197</td> <td> 0.231</td> <td>   -0.137</td> <td>    0.569</td>\n",
       "</tr>\n",
       "<tr>\n",
       "  <th>team[T.Crystal Palace]</th>       <td>   -0.5906</td> <td>    0.224</td> <td>   -2.636</td> <td> 0.008</td> <td>   -1.030</td> <td>   -0.151</td>\n",
       "</tr>\n",
       "<tr>\n",
       "  <th>team[T.Everton]</th>              <td>   -0.2336</td> <td>    0.202</td> <td>   -1.158</td> <td> 0.247</td> <td>   -0.629</td> <td>    0.162</td>\n",
       "</tr>\n",
       "<tr>\n",
       "  <th>team[T.Leicester]</th>            <td>    0.1727</td> <td>    0.181</td> <td>    0.952</td> <td> 0.341</td> <td>   -0.183</td> <td>    0.528</td>\n",
       "</tr>\n",
       "<tr>\n",
       "  <th>team[T.Liverpool]</th>            <td>    0.4031</td> <td>    0.172</td> <td>    2.339</td> <td> 0.019</td> <td>    0.065</td> <td>    0.741</td>\n",
       "</tr>\n",
       "<tr>\n",
       "  <th>team[T.Man City]</th>             <td>    0.5881</td> <td>    0.167</td> <td>    3.530</td> <td> 0.000</td> <td>    0.262</td> <td>    0.915</td>\n",
       "</tr>\n",
       "<tr>\n",
       "  <th>team[T.Man United]</th>           <td>    0.1525</td> <td>    0.182</td> <td>    0.838</td> <td> 0.402</td> <td>   -0.204</td> <td>    0.509</td>\n",
       "</tr>\n",
       "<tr>\n",
       "  <th>team[T.Newcastle]</th>            <td>   -0.3786</td> <td>    0.210</td> <td>   -1.799</td> <td> 0.072</td> <td>   -0.791</td> <td>    0.034</td>\n",
       "</tr>\n",
       "<tr>\n",
       "  <th>team[T.Norwich]</th>              <td>   -0.7416</td> <td>    0.238</td> <td>   -3.121</td> <td> 0.002</td> <td>   -1.207</td> <td>   -0.276</td>\n",
       "</tr>\n",
       "<tr>\n",
       "  <th>team[T.Sheffield United]</th>     <td>   -0.3716</td> <td>    0.209</td> <td>   -1.780</td> <td> 0.075</td> <td>   -0.781</td> <td>    0.038</td>\n",
       "</tr>\n",
       "<tr>\n",
       "  <th>team[T.Southampton]</th>          <td>   -0.0815</td> <td>    0.194</td> <td>   -0.420</td> <td> 0.674</td> <td>   -0.461</td> <td>    0.298</td>\n",
       "</tr>\n",
       "<tr>\n",
       "  <th>team[T.Tottenham]</th>            <td>    0.0847</td> <td>    0.185</td> <td>    0.457</td> <td> 0.647</td> <td>   -0.279</td> <td>    0.448</td>\n",
       "</tr>\n",
       "<tr>\n",
       "  <th>team[T.Watford]</th>              <td>   -0.4266</td> <td>    0.214</td> <td>   -1.995</td> <td> 0.046</td> <td>   -0.846</td> <td>   -0.007</td>\n",
       "</tr>\n",
       "<tr>\n",
       "  <th>team[T.West Ham]</th>             <td>   -0.1195</td> <td>    0.196</td> <td>   -0.610</td> <td> 0.542</td> <td>   -0.504</td> <td>    0.264</td>\n",
       "</tr>\n",
       "<tr>\n",
       "  <th>team[T.Wolves]</th>               <td>   -0.1019</td> <td>    0.194</td> <td>   -0.526</td> <td> 0.599</td> <td>   -0.482</td> <td>    0.278</td>\n",
       "</tr>\n",
       "<tr>\n",
       "  <th>opponent[T.Aston Villa]</th>      <td>    0.3191</td> <td>    0.189</td> <td>    1.685</td> <td> 0.092</td> <td>   -0.052</td> <td>    0.690</td>\n",
       "</tr>\n",
       "<tr>\n",
       "  <th>opponent[T.Bournemouth]</th>      <td>    0.2876</td> <td>    0.191</td> <td>    1.509</td> <td> 0.131</td> <td>   -0.086</td> <td>    0.661</td>\n",
       "</tr>\n",
       "<tr>\n",
       "  <th>opponent[T.Brighton]</th>         <td>    0.1008</td> <td>    0.199</td> <td>    0.507</td> <td> 0.612</td> <td>   -0.289</td> <td>    0.490</td>\n",
       "</tr>\n",
       "<tr>\n",
       "  <th>opponent[T.Burnley]</th>          <td>    0.0277</td> <td>    0.202</td> <td>    0.137</td> <td> 0.891</td> <td>   -0.369</td> <td>    0.424</td>\n",
       "</tr>\n",
       "<tr>\n",
       "  <th>opponent[T.Chelsea]</th>          <td>    0.1316</td> <td>    0.199</td> <td>    0.663</td> <td> 0.508</td> <td>   -0.258</td> <td>    0.521</td>\n",
       "</tr>\n",
       "<tr>\n",
       "  <th>opponent[T.Crystal Palace]</th>   <td>    0.0156</td> <td>    0.202</td> <td>    0.077</td> <td> 0.938</td> <td>   -0.381</td> <td>    0.412</td>\n",
       "</tr>\n",
       "<tr>\n",
       "  <th>opponent[T.Everton]</th>          <td>    0.1423</td> <td>    0.197</td> <td>    0.722</td> <td> 0.470</td> <td>   -0.244</td> <td>    0.528</td>\n",
       "</tr>\n",
       "<tr>\n",
       "  <th>opponent[T.Leicester]</th>        <td>   -0.1468</td> <td>    0.213</td> <td>   -0.689</td> <td> 0.491</td> <td>   -0.564</td> <td>    0.271</td>\n",
       "</tr>\n",
       "<tr>\n",
       "  <th>opponent[T.Liverpool]</th>        <td>   -0.3459</td> <td>    0.226</td> <td>   -1.527</td> <td> 0.127</td> <td>   -0.790</td> <td>    0.098</td>\n",
       "</tr>\n",
       "<tr>\n",
       "  <th>opponent[T.Man City]</th>         <td>   -0.2690</td> <td>    0.223</td> <td>   -1.208</td> <td> 0.227</td> <td>   -0.705</td> <td>    0.167</td>\n",
       "</tr>\n",
       "<tr>\n",
       "  <th>opponent[T.Man United]</th>       <td>   -0.2782</td> <td>    0.221</td> <td>   -1.260</td> <td> 0.208</td> <td>   -0.711</td> <td>    0.154</td>\n",
       "</tr>\n",
       "<tr>\n",
       "  <th>opponent[T.Newcastle]</th>        <td>    0.1714</td> <td>    0.195</td> <td>    0.877</td> <td> 0.380</td> <td>   -0.212</td> <td>    0.554</td>\n",
       "</tr>\n",
       "<tr>\n",
       "  <th>opponent[T.Norwich]</th>          <td>    0.4168</td> <td>    0.185</td> <td>    2.252</td> <td> 0.024</td> <td>    0.054</td> <td>    0.780</td>\n",
       "</tr>\n",
       "<tr>\n",
       "  <th>opponent[T.Sheffield United]</th> <td>   -0.2252</td> <td>    0.216</td> <td>   -1.044</td> <td> 0.297</td> <td>   -0.648</td> <td>    0.198</td>\n",
       "</tr>\n",
       "<tr>\n",
       "  <th>opponent[T.Southampton]</th>      <td>    0.2187</td> <td>    0.194</td> <td>    1.128</td> <td> 0.260</td> <td>   -0.161</td> <td>    0.599</td>\n",
       "</tr>\n",
       "<tr>\n",
       "  <th>opponent[T.Tottenham]</th>        <td>   -0.0160</td> <td>    0.206</td> <td>   -0.078</td> <td> 0.938</td> <td>   -0.419</td> <td>    0.387</td>\n",
       "</tr>\n",
       "<tr>\n",
       "  <th>opponent[T.Watford]</th>          <td>    0.2680</td> <td>    0.191</td> <td>    1.402</td> <td> 0.161</td> <td>   -0.107</td> <td>    0.643</td>\n",
       "</tr>\n",
       "<tr>\n",
       "  <th>opponent[T.West Ham]</th>         <td>    0.2495</td> <td>    0.193</td> <td>    1.296</td> <td> 0.195</td> <td>   -0.128</td> <td>    0.627</td>\n",
       "</tr>\n",
       "<tr>\n",
       "  <th>opponent[T.Wolves]</th>           <td>   -0.1878</td> <td>    0.214</td> <td>   -0.876</td> <td> 0.381</td> <td>   -0.608</td> <td>    0.232</td>\n",
       "</tr>\n",
       "<tr>\n",
       "  <th>home</th>                         <td>    0.2292</td> <td>    0.063</td> <td>    3.662</td> <td> 0.000</td> <td>    0.107</td> <td>    0.352</td>\n",
       "</tr>\n",
       "</table>"
      ],
      "text/plain": [
       "<class 'statsmodels.iolib.summary.Summary'>\n",
       "\"\"\"\n",
       "                 Generalized Linear Model Regression Results                  \n",
       "==============================================================================\n",
       "Dep. Variable:                  goals   No. Observations:                  760\n",
       "Model:                            GLM   Df Residuals:                      720\n",
       "Model Family:                 Poisson   Df Model:                           39\n",
       "Link Function:                    log   Scale:                          1.0000\n",
       "Method:                          IRLS   Log-Likelihood:                -1057.7\n",
       "Date:                Wed, 30 Dec 2020   Deviance:                       765.20\n",
       "Time:                        15:14:46   Pearson chi2:                     655.\n",
       "No. Iterations:                     5                                         \n",
       "Covariance Type:            nonrobust                                         \n",
       "================================================================================================\n",
       "                                   coef    std err          z      P>|z|      [0.025      0.975]\n",
       "------------------------------------------------------------------------------------------------\n",
       "Intercept                        0.1957      0.202      0.967      0.334      -0.201       0.593\n",
       "team[T.Aston Villa]             -0.2932      0.206     -1.424      0.154      -0.697       0.110\n",
       "team[T.Bournemouth]             -0.3200      0.207     -1.544      0.123      -0.726       0.086\n",
       "team[T.Brighton]                -0.3566      0.209     -1.708      0.088      -0.766       0.053\n",
       "team[T.Burnley]                 -0.2628      0.203     -1.294      0.196      -0.661       0.135\n",
       "team[T.Chelsea]                  0.2157      0.180      1.197      0.231      -0.137       0.569\n",
       "team[T.Crystal Palace]          -0.5906      0.224     -2.636      0.008      -1.030      -0.151\n",
       "team[T.Everton]                 -0.2336      0.202     -1.158      0.247      -0.629       0.162\n",
       "team[T.Leicester]                0.1727      0.181      0.952      0.341      -0.183       0.528\n",
       "team[T.Liverpool]                0.4031      0.172      2.339      0.019       0.065       0.741\n",
       "team[T.Man City]                 0.5881      0.167      3.530      0.000       0.262       0.915\n",
       "team[T.Man United]               0.1525      0.182      0.838      0.402      -0.204       0.509\n",
       "team[T.Newcastle]               -0.3786      0.210     -1.799      0.072      -0.791       0.034\n",
       "team[T.Norwich]                 -0.7416      0.238     -3.121      0.002      -1.207      -0.276\n",
       "team[T.Sheffield United]        -0.3716      0.209     -1.780      0.075      -0.781       0.038\n",
       "team[T.Southampton]             -0.0815      0.194     -0.420      0.674      -0.461       0.298\n",
       "team[T.Tottenham]                0.0847      0.185      0.457      0.647      -0.279       0.448\n",
       "team[T.Watford]                 -0.4266      0.214     -1.995      0.046      -0.846      -0.007\n",
       "team[T.West Ham]                -0.1195      0.196     -0.610      0.542      -0.504       0.264\n",
       "team[T.Wolves]                  -0.1019      0.194     -0.526      0.599      -0.482       0.278\n",
       "opponent[T.Aston Villa]          0.3191      0.189      1.685      0.092      -0.052       0.690\n",
       "opponent[T.Bournemouth]          0.2876      0.191      1.509      0.131      -0.086       0.661\n",
       "opponent[T.Brighton]             0.1008      0.199      0.507      0.612      -0.289       0.490\n",
       "opponent[T.Burnley]              0.0277      0.202      0.137      0.891      -0.369       0.424\n",
       "opponent[T.Chelsea]              0.1316      0.199      0.663      0.508      -0.258       0.521\n",
       "opponent[T.Crystal Palace]       0.0156      0.202      0.077      0.938      -0.381       0.412\n",
       "opponent[T.Everton]              0.1423      0.197      0.722      0.470      -0.244       0.528\n",
       "opponent[T.Leicester]           -0.1468      0.213     -0.689      0.491      -0.564       0.271\n",
       "opponent[T.Liverpool]           -0.3459      0.226     -1.527      0.127      -0.790       0.098\n",
       "opponent[T.Man City]            -0.2690      0.223     -1.208      0.227      -0.705       0.167\n",
       "opponent[T.Man United]          -0.2782      0.221     -1.260      0.208      -0.711       0.154\n",
       "opponent[T.Newcastle]            0.1714      0.195      0.877      0.380      -0.212       0.554\n",
       "opponent[T.Norwich]              0.4168      0.185      2.252      0.024       0.054       0.780\n",
       "opponent[T.Sheffield United]    -0.2252      0.216     -1.044      0.297      -0.648       0.198\n",
       "opponent[T.Southampton]          0.2187      0.194      1.128      0.260      -0.161       0.599\n",
       "opponent[T.Tottenham]           -0.0160      0.206     -0.078      0.938      -0.419       0.387\n",
       "opponent[T.Watford]              0.2680      0.191      1.402      0.161      -0.107       0.643\n",
       "opponent[T.West Ham]             0.2495      0.193      1.296      0.195      -0.128       0.627\n",
       "opponent[T.Wolves]              -0.1878      0.214     -0.876      0.381      -0.608       0.232\n",
       "home                             0.2292      0.063      3.662      0.000       0.107       0.352\n",
       "================================================================================================\n",
       "\"\"\""
      ]
     },
     "execution_count": 12,
     "metadata": {},
     "output_type": "execute_result"
    }
   ],
   "source": [
    "# importing the tools required for the Poisson regression model\n",
    "import statsmodels.api as sm\n",
    "import statsmodels.formula.api as smf\n",
    "\n",
    "goal_model_data = pd.concat([da.eng20[['HomeTeam','AwayTeam','FTHG']].assign(home=1).rename(\n",
    "            columns={'HomeTeam':'team', 'AwayTeam':'opponent','FTHG':'goals'}),\n",
    "           da.eng20[['AwayTeam','HomeTeam','FTAG']].assign(home=0).rename(\n",
    "            columns={'AwayTeam':'team', 'HomeTeam':'opponent','FTAG':'goals'})])\n",
    "\n",
    "poisson_model = smf.glm(formula=\"goals ~ home + team + opponent\", data=goal_model_data, \n",
    "                        family=sm.families.Poisson()).fit()\n",
    "poisson_model.summary()"
   ]
  },
  {
   "cell_type": "code",
   "execution_count": 13,
   "metadata": {},
   "outputs": [
    {
     "data": {
      "text/plain": [
       "1    1.067708\n",
       "dtype: float64"
      ]
     },
     "execution_count": 13,
     "metadata": {},
     "output_type": "execute_result"
    }
   ],
   "source": [
    "# Number of goals prediction\n",
    "poisson_model.predict(pd.DataFrame(data={'team': 'Chelsea', 'opponent': 'Liverpool', 'home':0},index=[1]))"
   ]
  },
  {
   "cell_type": "code",
   "execution_count": 14,
   "metadata": {},
   "outputs": [
    {
     "data": {
      "text/plain": [
       "array([[0.03275242, 0.06799351, 0.07057673, 0.04883872],\n",
       "       [0.04397976, 0.09130129, 0.09477002, 0.06558035],\n",
       "       [0.02952788, 0.06129942, 0.06362831, 0.04403046],\n",
       "       [0.01321662, 0.0274375 , 0.02847991, 0.01970795]])"
      ]
     },
     "execution_count": 14,
     "metadata": {},
     "output_type": "execute_result"
    }
   ],
   "source": [
    "# Calculate the probability of various events\n",
    "def simulate_match(foot_model, homeTeam, awayTeam, max_goals=10):\n",
    "    home_goals_avg = foot_model.predict(pd.DataFrame(data={'team': homeTeam, \n",
    "                                                            'opponent': awayTeam,'home':1},\n",
    "                                                      index=[1])).values[0]\n",
    "    away_goals_avg = foot_model.predict(pd.DataFrame(data={'team': awayTeam, \n",
    "                                                            'opponent': homeTeam,'home':0},\n",
    "                                                      index=[1])).values[0]\n",
    "    team_pred = [[poisson.pmf(i, team_avg) for i in range(0, max_goals+1)] for team_avg in [home_goals_avg, away_goals_avg]]\n",
    "    return(np.outer(np.array(team_pred[0]), np.array(team_pred[1])))\n",
    "simulate_match(poisson_model, 'Chelsea', 'Liverpool', max_goals=3)"
   ]
  },
  {
   "cell_type": "code",
   "execution_count": 15,
   "metadata": {},
   "outputs": [
    {
     "data": {
      "text/plain": [
       "0.24526697076118079"
      ]
     },
     "execution_count": 15,
     "metadata": {},
     "output_type": "execute_result"
    }
   ],
   "source": [
    "match_pred = simulate_match(poisson_model, \"Chelsea\", \"Liverpool\", max_goals=10)\n",
    "# Home win\n",
    "np.sum(np.tril(match_pred, -1))"
   ]
  },
  {
   "cell_type": "code",
   "execution_count": 16,
   "metadata": {},
   "outputs": [
    {
     "data": {
      "text/plain": [
       "0.21123788638610816"
      ]
     },
     "execution_count": 16,
     "metadata": {},
     "output_type": "execute_result"
    }
   ],
   "source": [
    "# Draw\n",
    "np.sum(np.diag(match_pred))"
   ]
  },
  {
   "cell_type": "code",
   "execution_count": 17,
   "metadata": {},
   "outputs": [
    {
     "data": {
      "text/plain": [
       "0.5434832638456422"
      ]
     },
     "execution_count": 17,
     "metadata": {},
     "output_type": "execute_result"
    }
   ],
   "source": [
    "# Away win\n",
    "np.sum(np.triu(match_pred, 1))"
   ]
  }
 ],
 "metadata": {
  "kernelspec": {
   "display_name": "Python 3",
   "language": "python",
   "name": "python3"
  },
  "language_info": {
   "codemirror_mode": {
    "name": "ipython",
    "version": 3
   },
   "file_extension": ".py",
   "mimetype": "text/x-python",
   "name": "python",
   "nbconvert_exporter": "python",
   "pygments_lexer": "ipython3",
   "version": "3.6.9"
  }
 },
 "nbformat": 4,
 "nbformat_minor": 2
}
